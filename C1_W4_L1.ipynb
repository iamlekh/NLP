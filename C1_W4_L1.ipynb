{
  "nbformat": 4,
  "nbformat_minor": 0,
  "metadata": {
    "colab": {
      "name": "scratchpad",
      "provenance": [],
      "include_colab_link": true
    },
    "kernelspec": {
      "display_name": "Python 3",
      "name": "python3"
    }
  },
  "cells": [
    {
      "cell_type": "markdown",
      "metadata": {
        "id": "view-in-github",
        "colab_type": "text"
      },
      "source": [
        "<a href=\"https://colab.research.google.com/github/iamlekh/NLP/blob/master/C1_W4_L1.ipynb\" target=\"_parent\"><img src=\"https://colab.research.google.com/assets/colab-badge.svg\" alt=\"Open In Colab\"/></a>"
      ]
    },
    {
      "cell_type": "code",
      "metadata": {
        "id": "lIYdn1woOS1n"
      },
      "source": [
        "import numpy as np                     \n",
        "import matplotlib.pyplot as plt   "
      ],
      "execution_count": 8,
      "outputs": []
    },
    {
      "cell_type": "code",
      "metadata": {
        "id": "M57UdUOGlv1t"
      },
      "source": [
        "import re\n",
        "import string\n",
        "\n",
        "import numpy as np\n",
        "import pandas as pd\n",
        "from nltk.corpus import stopwords\n",
        "from nltk.stem import PorterStemmer\n",
        "from nltk.tokenize import TweetTokenizer\n",
        "import matplotlib.pyplot as plt \n",
        "\n",
        "\n",
        "def process_tweet(tweet):\n",
        "    stemmer = PorterStemmer()\n",
        "    stopwords_english = stopwords.words('english')\n",
        "    tweet = re.sub(r'\\$\\w*', '', tweet)\n",
        "    tweet = re.sub(r'^RT[\\s]+', '', tweet)\n",
        "    tweet = re.sub(r'https?:\\/\\/.*[\\r\\n]*', '', tweet)\n",
        "    tweet = re.sub(r'#', '', tweet)\n",
        "    tokenizer = TweetTokenizer(preserve_case=False, strip_handles=True,\n",
        "                               reduce_len=True)\n",
        "    tweet_tokens = tokenizer.tokenize(tweet)\n",
        "    tweets_clean = []\n",
        "    for word in tweet_tokens:\n",
        "        if (word not in stopwords_english and  # remove stopwords\n",
        "            word not in string.punctuation):  # remove punctuation\n",
        "            stem_word = stemmer.stem(word)  # stemming word\n",
        "            tweets_clean.append(stem_word)\n",
        "    return tweets_clean\n",
        "\n",
        "def get_dict(file_name):\n",
        "    my_file = pd.read_csv(file_name, delimiter=' ')\n",
        "    etof = {}  # the english to french dictionary to be returned\n",
        "    for i in range(len(my_file)):\n",
        "        en = my_file.loc[i][0]\n",
        "        fr = my_file.loc[i][1]\n",
        "        etof[en] = fr\n",
        "    return etof\n",
        "\n",
        "\n",
        "def cosine_similarity(A, B):\n",
        "    cos = -10\n",
        "    dot = np.dot(A, B)\n",
        "    norma = np.linalg.norm(A)\n",
        "    normb = np.linalg.norm(B)\n",
        "    cos = dot / (norma * normb)\n",
        "    return cos\n",
        "\n",
        "def plot_vectors(vectors, colors=['k', 'b', 'r', 'm', 'c'], axes=None, fname='image.svg', ax=None):\n",
        "    scale = 1\n",
        "    scale_units = 'x'\n",
        "    x_dir = []\n",
        "    y_dir = []\n",
        "    \n",
        "    for i, vec in enumerate(vectors):\n",
        "        x_dir.append(vec[0][0])\n",
        "        y_dir.append(vec[0][1])\n",
        "    \n",
        "    if ax == None:\n",
        "        fig, ax2 = plt.subplots()\n",
        "    else:\n",
        "        ax2 = ax\n",
        "      \n",
        "    if axes == None:\n",
        "        x_axis = 2 + np.max(np.abs(x_dir))\n",
        "        y_axis = 2 + np.max(np.abs(y_dir))\n",
        "    else:\n",
        "        x_axis = axes[0]\n",
        "        y_axis = axes[1]\n",
        "        \n",
        "    ax2.axis([-x_axis, x_axis, -y_axis, y_axis])\n",
        "        \n",
        "    for i, vec in enumerate(vectors):\n",
        "        ax2.arrow(0, 0, vec[0][0], vec[0][1], head_width=0.05 * x_axis, head_length=0.05 * y_axis, fc=colors[i], ec=colors[i])\n",
        "    \n",
        "    if ax == None:\n",
        "        plt.show()\n",
        "        fig.savefig(fname)"
      ],
      "execution_count": 9,
      "outputs": []
    },
    {
      "cell_type": "code",
      "metadata": {
        "id": "kOt1JhOllW7C"
      },
      "source": [
        "R = np.array([[2, 0],\n",
        "              [0, -2]])"
      ],
      "execution_count": 10,
      "outputs": []
    },
    {
      "cell_type": "code",
      "metadata": {
        "id": "WjQvo_WhlXZF"
      },
      "source": [
        "x = np.array([[1, 1]])"
      ],
      "execution_count": 11,
      "outputs": []
    },
    {
      "cell_type": "code",
      "metadata": {
        "id": "P38ccCqJlXcX",
        "outputId": "4eb1478e-01aa-4ca8-a122-9fc12aebd1e7",
        "colab": {
          "base_uri": "https://localhost:8080/"
        }
      },
      "source": [
        "y = np.dot(x, R)\n",
        "y"
      ],
      "execution_count": 12,
      "outputs": [
        {
          "output_type": "execute_result",
          "data": {
            "text/plain": [
              "array([[ 2, -2]])"
            ]
          },
          "metadata": {
            "tags": []
          },
          "execution_count": 12
        }
      ]
    },
    {
      "cell_type": "code",
      "metadata": {
        "id": "Bp7xL-ralXgn",
        "outputId": "e4201c3e-8dad-4b2d-bb0b-423dc5170c9c",
        "colab": {
          "base_uri": "https://localhost:8080/",
          "height": 268
        }
      },
      "source": [
        "plot_vectors([y], axes=[4, 4], fname='transform_x.svg')"
      ],
      "execution_count": 15,
      "outputs": [
        {
          "output_type": "display_data",
          "data": {
            "image/png": "[encoded data removed]",
            "text/plain": [
              "<Figure size 432x288 with 1 Axes>"
            ]
          },
          "metadata": {
            "tags": [],
            "needs_background": "light"
          }
        }
      ]
    },
    {
      "cell_type": "code",
      "metadata": {
        "id": "TWiE4cchlXlP",
        "outputId": "07ff1a85-a048-48f1-e690-a366af863077",
        "colab": {
          "base_uri": "https://localhost:8080/",
          "height": 268
        }
      },
      "source": [
        "plot_vectors([x, y], axes=[4, 4], fname='transformx_and_y.svg')"
      ],
      "execution_count": 16,
      "outputs": [
        {
          "output_type": "display_data",
          "data": {
            "image/png": "[encoded data removed]",
            "text/plain": [
              "<Figure size 432x288 with 1 Axes>"
            ]
          },
          "metadata": {
            "tags": [],
            "needs_background": "light"
          }
        }
      ]
    },
    {
      "cell_type": "code",
      "metadata": {
        "id": "KwUwhj-XlXpO",
        "outputId": "eab1b7a2-1496-40e4-cdcc-6646489644f3",
        "colab": {
          "base_uri": "https://localhost:8080/"
        }
      },
      "source": [
        "\n",
        "angle = 100 * (np.pi / 180) #convert degrees to radians\n",
        "\n",
        "Ro = np.array([[np.cos(angle), -np.sin(angle)],\n",
        "              [np.sin(angle), np.cos(angle)]])\n",
        "\n",
        "x2 = np.array([2, 2]).reshape(1, -1) # make it a row vector\n",
        "y2 = np.dot(x2, Ro)\n",
        "\n",
        "print('Rotation matrix')\n",
        "print(Ro)\n",
        "print('\\nRotated vector')\n",
        "print(y2)\n",
        "\n",
        "print('\\n x2 norm', np.linalg.norm(x2))\n",
        "print('\\n y2 norm', np.linalg.norm(y2))\n",
        "print('\\n Rotation matrix norm', np.linalg.norm(Ro))"
      ],
      "execution_count": 17,
      "outputs": [
        {
          "output_type": "stream",
          "text": [
            "Rotation matrix\n",
            "[[-0.17364818 -0.98480775]\n",
            " [ 0.98480775 -0.17364818]]\n",
            "\n",
            "Rotated vector\n",
            "[[ 1.62231915 -2.31691186]]\n",
            "\n",
            " x2 norm 2.8284271247461903\n",
            "\n",
            " y2 norm 2.82842712474619\n",
            "\n",
            " Rotation matrix norm 1.414213562373095\n"
          ],
          "name": "stdout"
        }
      ]
    },
    {
      "cell_type": "code",
      "metadata": {
        "id": "gMZK3s7MlXsh",
        "outputId": "a6b98f14-7c6e-408d-fe49-64bae18a0ca5",
        "colab": {
          "base_uri": "https://localhost:8080/",
          "height": 264
        }
      },
      "source": [
        "plot_vectors([x2, y2], fname='transform_02.svg')"
      ],
      "execution_count": 18,
      "outputs": [
        {
          "output_type": "display_data",
          "data": {
            "image/png": "[encoded data removed]",
            "text/plain": [
              "<Figure size 432x288 with 1 Axes>"
            ]
          },
          "metadata": {
            "tags": [],
            "needs_background": "light"
          }
        }
      ]
    },
    {
      "cell_type": "code",
      "metadata": {
        "id": "aV9j4BeFlXvs"
      },
      "source": [
        "A = np.array([[2, 2],\n",
        "              [2, 2]])"
      ],
      "execution_count": 19,
      "outputs": []
    },
    {
      "cell_type": "code",
      "metadata": {
        "id": "s5bnnCxylXzn",
        "outputId": "892dc7fe-f5d1-4d46-9ac1-0b13069cc8d7",
        "colab": {
          "base_uri": "https://localhost:8080/"
        }
      },
      "source": [
        "A_squared = np.square(A)\n",
        "A_squared"
      ],
      "execution_count": 20,
      "outputs": [
        {
          "output_type": "execute_result",
          "data": {
            "text/plain": [
              "array([[4, 4],\n",
              "       [4, 4]])"
            ]
          },
          "metadata": {
            "tags": []
          },
          "execution_count": 20
        }
      ]
    },
    {
      "cell_type": "code",
      "metadata": {
        "id": "BMnQ1zOVnDUm",
        "outputId": "34b392a6-e8cd-4c0b-e63c-212c5b5efd88",
        "colab": {
          "base_uri": "https://localhost:8080/"
        }
      },
      "source": [
        "\n",
        "A_Frobenius = np.sqrt(np.sum(A_squared))\n",
        "A_Frobenius"
      ],
      "execution_count": 22,
      "outputs": [
        {
          "output_type": "execute_result",
          "data": {
            "text/plain": [
              "4.0"
            ]
          },
          "metadata": {
            "tags": []
          },
          "execution_count": 22
        }
      ]
    },
    {
      "cell_type": "code",
      "metadata": {
        "id": "-mioJwwom5MN",
        "outputId": "2a2109a2-406b-4bfb-ef53-437e407e8520",
        "colab": {
          "base_uri": "https://localhost:8080/"
        }
      },
      "source": [
        "print('Frobenius norm of the Rotation matrix')\n",
        "print(np.sqrt(np.sum(Ro * Ro)), '== ', np.linalg.norm(Ro))"
      ],
      "execution_count": 21,
      "outputs": [
        {
          "output_type": "stream",
          "text": [
            "Frobenius norm of the Rotation matrix\n",
            "1.414213562373095 ==  1.414213562373095\n"
          ],
          "name": "stdout"
        }
      ]
    }
  ]
}